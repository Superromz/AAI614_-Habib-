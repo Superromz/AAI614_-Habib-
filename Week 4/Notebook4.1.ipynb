{
  "cells": [
    {
      "cell_type": "markdown",
      "metadata": {
        "id": "DY6r9WXybbYn"
      },
      "source": [
        "# AAI614: Data Science & its Applications\n",
        "\n",
        "*Notebook 4.1: Graph Analytics with cuGraph and TIGER*\n",
        "\n",
        "<a href=\"https://colab.research.google.com/github/harmanani/AAI614/blob/main/Week%204/Notebook4.1.ipynb\" target=\"_parent\"><img src=\"https://colab.research.google.com/assets/colab-badge.svg\" alt=\"Open In Colab\"/></a>\n",
        "\n",
        "\n",
        "\n",
        "\n",
        "The study of network robustness is critical to the understanding of complex interconnected systems. For example, consider an example of a power grid network that is susceptible to both natural failures and targeted attacks. A natural failure occurs when a single power substation fails due to erosion of parts or natural disasters. However, when one substation fails, additional load is routed to alternative substations, potentially causing a series of cascading failures. Not all failures originate from natural causes, some come from targeted attacks, such as enemy states hacking into the grid to sabotage key equipment to maximally damage the operations of the electrical grid. A natural counterpart to network robustness is vulnerability, defined as measure of a network’s susceptibility to the dissemination of entities across the network, such as how quickly a virus spreads across a computer network.\n",
        "\n",
        "In this lab, we show how to use [cuGraph](https://github.com/rapidsai/cugraph) and [TIGER](https://github.com/safreita1/TIGER) to conduct state-of-the-art GPU accelerated graph vulnerability and robustness analysis. Specifically, we will look at how to:\n",
        "\n",
        "- *Quantify network vulnerability and robustness* (**Part 1**),\n",
        "- *Simulate network attacks and cascading failures on networks* (**Part 2**)\n",
        "- *Regulate the dissemination of computer virues on a network* (**Part 3**)\n",
        "\n",
        "Lab Source: **NVIDIA**"
      ]
    },
    {
      "cell_type": "markdown",
      "metadata": {
        "id": "m07IHxfBuBp7"
      },
      "source": [
        "## Setup\n",
        "Lets begin by installing the following 2 libraries:\n",
        "\n",
        "1.   Graph vulnerability and robustness analysis library: [TIGER](https://github.com/safreita1/TIGER)\n",
        "2.   GPU acceleration library: [CuPy](https://github.com/cupy/cupy)\n"
      ]
    },
    {
      "cell_type": "code",
      "execution_count": 11,
      "metadata": {
        "colab": {
          "base_uri": "https://localhost:8080/"
        },
        "id": "0w_bThcZtlX3",
        "outputId": "eb2b7259-f1b9-4a48-a324-e5d460b071af"
      },
      "outputs": [
        {
          "output_type": "stream",
          "name": "stdout",
          "text": [
            "\u001b[33mWARNING: Ignoring invalid distribution ~ylibcudf-cu12 (/usr/local/lib/python3.11/dist-packages)\u001b[0m\u001b[33m\n",
            "\u001b[0m\u001b[33mWARNING: Ignoring invalid distribution ~ylibcudf-cu12 (/usr/local/lib/python3.11/dist-packages)\u001b[0m\u001b[33m\n",
            "\u001b[0mRequirement already satisfied: graph-tiger in /usr/local/lib/python3.11/dist-packages (0.2.5)\n",
            "\u001b[33mWARNING: Ignoring invalid distribution ~ylibcudf-cu12 (/usr/local/lib/python3.11/dist-packages)\u001b[0m\u001b[33m\n",
            "\u001b[0m"
          ]
        }
      ],
      "source": [
        "pip install graph-tiger"
      ]
    },
    {
      "cell_type": "code",
      "source": [
        "import os\n",
        "print(\"Current working directory:\", os.getcwd())\n",
        "print(\"Contents of current directory:\")\n",
        "for item in os.listdir('.'):\n",
        "    print(f\"  {item}\")"
      ],
      "metadata": {
        "id": "nQTYDobLgJBy",
        "outputId": "ab3e66a5-a642-4442-e436-1e04eb1e7cfe",
        "colab": {
          "base_uri": "https://localhost:8080/"
        }
      },
      "execution_count": 12,
      "outputs": [
        {
          "output_type": "stream",
          "name": "stdout",
          "text": [
            "Current working directory: /content\n",
            "Contents of current directory:\n",
            "  .config\n",
            "  rapidsai-csp-utils\n",
            "  sample_data\n"
          ]
        }
      ]
    },
    {
      "cell_type": "code",
      "source": [
        "!git clone https://github.com/rapidsai/rapidsai-csp-utils.git"
      ],
      "metadata": {
        "id": "5-43xEalgJE_",
        "outputId": "282d9555-9abe-4a94-ae39-fa145aa6c256",
        "colab": {
          "base_uri": "https://localhost:8080/"
        }
      },
      "execution_count": 13,
      "outputs": [
        {
          "output_type": "stream",
          "name": "stdout",
          "text": [
            "fatal: destination path 'rapidsai-csp-utils' already exists and is not an empty directory.\n"
          ]
        }
      ]
    },
    {
      "cell_type": "code",
      "source": [
        "import os\n",
        "file_path = 'rapidsai-csp-utils/colab/update_modules.py'\n",
        "if os.path.exists(file_path):\n",
        "    print(\"File exists!\")\n",
        "else:\n",
        "    print(\"File not found. Let's check the repository structure:\")\n",
        "    if os.path.exists('rapidsai-csp-utils'):\n",
        "        print(\"Repository exists. Contents:\")\n",
        "        for root, dirs, files in os.walk('rapidsai-csp-utils'):\n",
        "            for file in files:\n",
        "                if file.endswith('.py'):\n",
        "                    print(f\"  {os.path.join(root, file)}\")\n",
        "    else:\n",
        "        print(\"Repository not found.\")"
      ],
      "metadata": {
        "id": "yGOdOAV3gJJP",
        "outputId": "65a15481-b58a-4cb6-fd55-b512df4b2665",
        "colab": {
          "base_uri": "https://localhost:8080/"
        }
      },
      "execution_count": 14,
      "outputs": [
        {
          "output_type": "stream",
          "name": "stdout",
          "text": [
            "File not found. Let's check the repository structure:\n",
            "Repository exists. Contents:\n",
            "  rapidsai-csp-utils/colab/install_rapids.py\n",
            "  rapidsai-csp-utils/colab/env-check.py\n",
            "  rapidsai-csp-utils/colab/pip-install.py\n"
          ]
        }
      ]
    },
    {
      "cell_type": "code",
      "source": [
        "import subprocess\n",
        "import sys\n",
        "\n",
        "# Install the missing RAPIDSAI packages with CUDA 12 support\n",
        "missing_packages = [\n",
        "    \"cugraph-cu12\",\n",
        "    \"cuspatial-cu12\",\n",
        "    \"cuproj-cu12\",\n",
        "    \"cuxfilter-cu12\"\n",
        "]\n",
        "\n",
        "for package in missing_packages:\n",
        "    print(f\"Installing {package}...\")\n",
        "    try:\n",
        "        subprocess.check_call([\n",
        "            sys.executable, \"-m\", \"pip\", \"install\",\n",
        "            package, \"--no-cache-dir\"\n",
        "        ])\n",
        "        print(f\"✅ {package} installed successfully\")\n",
        "    except subprocess.CalledProcessError as e:\n",
        "        print(f\"❌ Failed to install {package}: {e}\")\n",
        "    print(\"-\" * 50)"
      ],
      "metadata": {
        "id": "tN-ObrCNgPCW",
        "outputId": "f2dccdb5-12f9-48e1-fc1e-c0cb2c527ef3",
        "colab": {
          "base_uri": "https://localhost:8080/"
        }
      },
      "execution_count": 15,
      "outputs": [
        {
          "output_type": "stream",
          "name": "stdout",
          "text": [
            "Installing cugraph-cu12...\n",
            "✅ cugraph-cu12 installed successfully\n",
            "--------------------------------------------------\n",
            "Installing cuspatial-cu12...\n",
            "✅ cuspatial-cu12 installed successfully\n",
            "--------------------------------------------------\n",
            "Installing cuproj-cu12...\n",
            "✅ cuproj-cu12 installed successfully\n",
            "--------------------------------------------------\n",
            "Installing cuxfilter-cu12...\n",
            "✅ cuxfilter-cu12 installed successfully\n",
            "--------------------------------------------------\n"
          ]
        }
      ]
    },
    {
      "cell_type": "code",
      "source": [
        "import subprocess\n",
        "import sys\n",
        "\n",
        "# Check for RAPIDSAI packages\n",
        "rapidsai_packages = ['cudf', 'cuml', 'cugraph', 'cuspatial', 'cuproj', 'cuxfilter']\n",
        "\n",
        "print(\"Checking RAPIDSAI package availability:\")\n",
        "for package in rapidsai_packages:\n",
        "    try:\n",
        "        __import__(package)\n",
        "        print(f\"✅ {package} - INSTALLED\")\n",
        "    except ImportError:\n",
        "        print(f\"❌ {package} - NOT INSTALLED\")\n",
        "\n",
        "# Also check pip list for any rapids packages\n",
        "result = subprocess.run([sys.executable, \"-m\", \"pip\", \"list\"],\n",
        "                       capture_output=True, text=True)\n",
        "rapids_lines = [line for line in result.stdout.split('\\n') if 'cu' in line.lower()]\n",
        "print(f\"\\nInstalled packages with 'cu' in name:\")\n",
        "for line in rapids_lines:\n",
        "    if line.strip():\n",
        "        print(f\"  {line}\")"
      ],
      "metadata": {
        "id": "tYP0IgT7gPGG",
        "outputId": "7189048a-2cfe-41c5-9c1a-a0c98c371af3",
        "colab": {
          "base_uri": "https://localhost:8080/"
        }
      },
      "execution_count": 16,
      "outputs": [
        {
          "output_type": "stream",
          "name": "stdout",
          "text": [
            "Checking RAPIDSAI package availability:\n",
            "✅ cudf - INSTALLED\n",
            "✅ cuml - INSTALLED\n",
            "✅ cugraph - INSTALLED\n",
            "✅ cuspatial - INSTALLED\n",
            "✅ cuproj - INSTALLED\n",
            "✅ cuxfilter - INSTALLED\n",
            "\n",
            "Installed packages with 'cu' in name:\n",
            "  cuda-python                           12.6.2.post1\n",
            "  cudf-cu12                             25.6.0\n",
            "  cudf-polars-cu12                      25.2.2\n",
            "  cufflinks                             0.17.3\n",
            "  cugraph-cu12                          25.6.0\n",
            "  cuml-cu12                             25.2.1\n",
            "  cuproj-cu12                           25.4.0\n",
            "  cupy-cuda12x                          13.3.0\n",
            "  curl_cffi                             0.11.4\n",
            "  cuspatial-cu12                        25.4.0\n",
            "  cuvs-cu12                             25.2.1\n",
            "  cuxfilter-cu12                        25.6.0\n",
            "  dask-cuda                             25.6.0\n",
            "  dask-cudf-cu12                        25.6.0\n",
            "  distributed-ucxx-cu12                 0.44.0\n",
            "  docutils                              0.21.2\n",
            "  jax-cuda12-pjrt                       0.5.1\n",
            "  jax-cuda12-plugin                     0.5.1\n",
            "  libcudf-cu12                          25.6.0\n",
            "  libcugraph-cu12                       25.6.0\n",
            "  libcuml-cu12                          25.2.1\n",
            "  libcuspatial-cu12                     25.4.0\n",
            "  libcuvs-cu12                          25.2.1\n",
            "  libkvikio-cu12                        25.6.0\n",
            "  libraft-cu12                          25.6.0\n",
            "  librmm-cu12                           25.6.0\n",
            "  libucx-cu12                           1.18.1\n",
            "  libucxx-cu12                          0.44.0\n",
            "  numba-cuda                            0.11.0\n",
            "  nvidia-cublas-cu12                    12.5.3.2\n",
            "  nvidia-cuda-cupti-cu12                12.5.82\n",
            "  nvidia-cuda-nvcc-cu12                 12.5.82\n",
            "  nvidia-cuda-nvrtc-cu12                12.5.82\n",
            "  nvidia-cuda-runtime-cu12              12.5.82\n",
            "  nvidia-cudnn-cu12                     9.3.0.75\n",
            "  nvidia-cufft-cu12                     11.2.3.61\n",
            "  nvidia-curand-cu12                    10.3.6.82\n",
            "  nvidia-cusolver-cu12                  11.6.3.83\n",
            "  nvidia-cusparse-cu12                  12.5.1.3\n",
            "  nvidia-cusparselt-cu12                0.6.2\n",
            "  nvidia-nccl-cu12                      2.21.5\n",
            "  nvidia-nvcomp-cu12                    4.2.0.11\n",
            "  nvidia-nvjitlink-cu12                 12.5.82\n",
            "  nvidia-nvtx-cu12                      12.4.127\n",
            "  nx-cugraph-cu12                       25.2.0\n",
            "  pylibcugraph-cu12                     25.6.0\n",
            "  pylibraft-cu12                        25.6.0\n",
            "  pynvjitlink-cu12                      0.6.0\n",
            "  raft-dask-cu12                        25.6.0\n",
            "  rmm-cu12                              25.6.0\n",
            "  torch                                 2.6.0+cu124\n",
            "  torchaudio                            2.6.0+cu124\n",
            "  torchvision                           0.21.0+cu124\n",
            "  ucx-py-cu12                           0.44.0\n",
            "  ucxx-cu12                             0.44.0\n"
          ]
        }
      ]
    },
    {
      "cell_type": "markdown",
      "metadata": {
        "id": "fY4Lymv-x7G0"
      },
      "source": [
        "That's it! Now we can run a variety of GPU acclerated graph mining algorithms.\n",
        "\n"
      ]
    },
    {
      "cell_type": "markdown",
      "metadata": {
        "id": "0JBQLhrOCYFn"
      },
      "source": [
        "## Part 1: Quantifing network vulnerability and robustness\n",
        "\n",
        "While CPU calculations work well for sparse graphs, GPU acceleration significantly speeds-up analysis for dense graphs. To see this, lets run the code below that measures the robustness of a Barabási Albert (BA) graph at varying levels of density (i.e., number of edges per node)."
      ]
    },
    {
      "cell_type": "code",
      "source": [
        "!pip install stopit"
      ],
      "metadata": {
        "id": "ajO5dvgEg0PB",
        "outputId": "b5e6128a-b51a-4e20-b0af-70f06c6763c0",
        "colab": {
          "base_uri": "https://localhost:8080/"
        }
      },
      "execution_count": 20,
      "outputs": [
        {
          "output_type": "stream",
          "name": "stdout",
          "text": [
            "\u001b[33mWARNING: Ignoring invalid distribution ~ylibcudf-cu12 (/usr/local/lib/python3.11/dist-packages)\u001b[0m\u001b[33m\n",
            "\u001b[0m\u001b[33mWARNING: Ignoring invalid distribution ~ylibcudf-cu12 (/usr/local/lib/python3.11/dist-packages)\u001b[0m\u001b[33m\n",
            "\u001b[0mCollecting stopit\n",
            "  Downloading stopit-1.1.2.tar.gz (18 kB)\n",
            "  Preparing metadata (setup.py) ... \u001b[?25l\u001b[?25hdone\n",
            "Building wheels for collected packages: stopit\n",
            "  Building wheel for stopit (setup.py) ... \u001b[?25l\u001b[?25hdone\n",
            "  Created wheel for stopit: filename=stopit-1.1.2-py3-none-any.whl size=11938 sha256=db88b44a63b134c6ab23bd405cea918c2d152b3ff1910704875349fe5fd8f8b6\n",
            "  Stored in directory: /root/.cache/pip/wheels/da/77/2d/adbc56bc4db95ad80c6d4e71cd69e2d9d122174904342e3f7f\n",
            "Successfully built stopit\n",
            "\u001b[33mWARNING: Ignoring invalid distribution ~ylibcudf-cu12 (/usr/local/lib/python3.11/dist-packages)\u001b[0m\u001b[33m\n",
            "\u001b[0mInstalling collected packages: stopit\n",
            "Successfully installed stopit-1.1.2\n"
          ]
        }
      ]
    },
    {
      "cell_type": "code",
      "execution_count": 21,
      "metadata": {
        "id": "QhLLxqeJCV6P",
        "outputId": "fa9ac856-1449-43a3-8c7b-7df9281b11fc",
        "colab": {
          "base_uri": "https://localhost:8080/"
        }
      },
      "outputs": [
        {
          "output_type": "stream",
          "name": "stderr",
          "text": [
            "100%|██████████| 10/10 [00:31<00:00,  3.16s/it]\n"
          ]
        }
      ],
      "source": [
        "import time\n",
        "from tqdm import tqdm\n",
        "\n",
        "from graph_tiger.measures import run_measure\n",
        "from graph_tiger.graphs import graph_loader\n",
        "\n",
        "# controls graph density by varying the number of non-zeroes per row (i.e., number of edges per node in graph)\n",
        "nnz_per_row = list(range(50, 501, 50))\n",
        "\n",
        "cpu_times = []\n",
        "gpu_times = []\n",
        "for nnz in tqdm(nnz_per_row):\n",
        "  graph = graph_loader(graph_type='BA', n=1000, m=nnz, seed=1)\n",
        "\n",
        "  start_cpu = time.time()\n",
        "  robustness_index = run_measure(graph, measure='average_vertex_betweenness', k=int(0.05 * len(graph)))\n",
        "  end_cpu = time.time()\n",
        "\n",
        "  start_gpu = time.time()\n",
        "  robustness_index = run_measure(graph, measure='average_vertex_betweenness', k=12, use_gpu=True)  # ****** Replace with cuGraph version: https://docs.rapids.ai/api/cugraph/stable/api.html#module-cugraph.centrality.betweenness_centrality ******\n",
        "  end_gpu = time.time()\n",
        "\n",
        "\n",
        "  cpu_times.append(round(end_cpu - start_cpu, 2))\n",
        "  gpu_times.append(round(end_gpu - start_gpu, 2))\n",
        "\n",
        "\n"
      ]
    },
    {
      "cell_type": "markdown",
      "metadata": {
        "id": "feSLclFDI4c5"
      },
      "source": [
        "Now lets plot the results (lower is better)."
      ]
    },
    {
      "cell_type": "code",
      "execution_count": 22,
      "metadata": {
        "colab": {
          "base_uri": "https://localhost:8080/",
          "height": 472
        },
        "id": "L00rAHJpCV03",
        "outputId": "e2738604-ca85-43db-c458-50ed16ac20e7"
      },
      "outputs": [
        {
          "output_type": "display_data",
          "data": {
            "text/plain": [
              "<Figure size 640x480 with 1 Axes>"
            ],
            "image/png": "[encoded data removed]"
          },
          "metadata": {}
        }
      ],
      "source": [
        "%matplotlib inline\n",
        "import matplotlib.pyplot as plt\n",
        "\n",
        "plt.plot(nnz_per_row, cpu_times, label='CPU')\n",
        "plt.plot(nnz_per_row, gpu_times, label='GPU')\n",
        "plt.xlabel('Number of edges per node (NNZ)')\n",
        "plt.ylabel('Time (seconds)')\n",
        "plt.title('Measuring Graph Robustness Runtime (CPU vs. GPU)')\n",
        "plt.legend()\n",
        "plt.show()"
      ]
    },
    {
      "cell_type": "markdown",
      "metadata": {
        "id": "X58wipWGyaJd"
      },
      "source": [
        "## Part 2. Simulating Cascading Failures in U.S. Electrical Grid\n",
        "Cascading failures often arise as a result of natural failures or targeted attacks in a network. There are 3 main processes governing the network simulation:\n",
        "\n",
        "- the **capacity** of each node (<img src=\"https://render.githubusercontent.com/render/math?math=c_v\">) in the network, e.g., power substation capacity.\n",
        "\n",
        "- the **load** of each node (<img src=\"https://render.githubusercontent.com/render/math?math=l_v\">) in the network, e.g., power substation load level\n",
        "\n",
        "- network **redundancy** (*r*) representing the amount of reserve capacity present in the network i.e., auxiliary support systems.\n",
        "\n",
        "When a node is attacked it becomes \"overloaded\", causing it to fail and requiring the load be distributed to its neighbors. When defending a node, we increase it’s capacity to protect against attacks. With just these 3 parameters, we can setup a cascading failure simulation. Below, we show how to load a graph representing the U.S. electrical grid and setup the simulation parameters."
      ]
    },
    {
      "cell_type": "code",
      "execution_count": 23,
      "metadata": {
        "id": "ZaOR8IqVN78X"
      },
      "outputs": [],
      "source": [
        "from graph_tiger.graphs import graph_loader\n",
        "\n",
        "graph = graph_loader('electrical')\n",
        "\n",
        "params = {\n",
        "   'runs': 1,  # number of times to run the simulation\n",
        "   'steps': 100,  # number of time steps to run each simulation\n",
        "   'seed': 1,  # for repoducibility\n",
        "\n",
        "   'l': 0.8,  # network load [0, 1]\n",
        "   'r': 0.2,  # network redundancey [0, 1]\n",
        "   'c': int(0.1 * len(graph)),  # load capacity approximation\n",
        "\n",
        "   'robust_measure': 'largest_connected_component',  # measure of network health\n",
        "}"
      ]
    },
    {
      "cell_type": "markdown",
      "metadata": {
        "id": "DEUFDjjYPJIX"
      },
      "source": [
        "### Setting up a Targeted Attack\n",
        "To run the attack we just have to modify a few simulation parameters. We set the attack to remove 30 nodes in the graph (e.g., power grid substations) with highest degree centrality \"id_node\". As you can imagine, there are many different strategies that can be used to attack the grid, however, by selecting degree centrality we can find \"central\" nodes in the network with many power lines (edges) connected to the substations (nodes)."
      ]
    },
    {
      "cell_type": "code",
      "execution_count": 31,
      "metadata": {
        "id": "FIxAypOhN3vm"
      },
      "outputs": [],
      "source": [
        "params.update({\n",
        "   'k_a': 30,  # number of nodes to attack\n",
        "   'attack': 'id_node',  # attack strategy\n",
        "})"
      ]
    },
    {
      "cell_type": "code",
      "source": [
        "# Create a simple replacement for ForceAtlas2\n",
        "import sys\n",
        "import types\n",
        "\n",
        "# Create a mock ForceAtlas2 class\n",
        "class MockForceAtlas2:\n",
        "    def __init__(self, *args, **kwargs):\n",
        "        pass\n",
        "\n",
        "    def forceatlas2_networkx_layout(self, graph, *args, **kwargs):\n",
        "        # Use networkx's spring layout as fallback\n",
        "        import networkx as nx\n",
        "        return nx.spring_layout(graph)\n",
        "\n",
        "# Create a mock fa2 module\n",
        "fa2_module = types.ModuleType('fa2')\n",
        "fa2_module.ForceAtlas2 = MockForceAtlas2\n",
        "sys.modules['fa2'] = fa2_module\n",
        "\n",
        "print(\"Created mock fa2 module - now try your import:\")"
      ],
      "metadata": {
        "id": "Cw6cYw3QhnZ4",
        "outputId": "547a8765-e3c9-443b-ce2a-9278d4ffda6c",
        "colab": {
          "base_uri": "https://localhost:8080/"
        }
      },
      "execution_count": 29,
      "outputs": [
        {
          "output_type": "stream",
          "name": "stdout",
          "text": [
            "Created mock fa2 module - now try your import:\n"
          ]
        }
      ]
    },
    {
      "cell_type": "code",
      "source": [
        "import networkx as nx\n",
        "import scipy.sparse as sp\n",
        "import numpy as np\n",
        "\n",
        "# Add the missing function back to networkx\n",
        "def to_scipy_sparse_matrix(G, nodelist=None, dtype=None, order=None, format='csr'):\n",
        "    \"\"\"Compatibility function for older networkx code\"\"\"\n",
        "    try:\n",
        "        # Try the new function first (NetworkX >= 2.8)\n",
        "        return nx.to_scipy_sparse_array(G, nodelist=nodelist, dtype=dtype, format=format)\n",
        "    except AttributeError:\n",
        "        # Fallback for older versions\n",
        "        from networkx.convert_matrix import to_scipy_sparse_matrix as old_func\n",
        "        return old_func(G, nodelist=nodelist, dtype=dtype, order=order, format=format)\n",
        "\n",
        "# Monkey patch it back into networkx\n",
        "nx.to_scipy_sparse_matrix = to_scipy_sparse_matrix\n",
        "\n",
        "print(\"✅ Patched networkx.to_scipy_sparse_matrix\")"
      ],
      "metadata": {
        "id": "_oMY1RU0h6Jb",
        "outputId": "8f3227d0-8237-4e27-fe4b-2cd0fb62cc56",
        "colab": {
          "base_uri": "https://localhost:8080/"
        }
      },
      "execution_count": 34,
      "outputs": [
        {
          "output_type": "stream",
          "name": "stdout",
          "text": [
            "✅ Patched networkx.to_scipy_sparse_matrix\n"
          ]
        }
      ]
    },
    {
      "cell_type": "markdown",
      "metadata": {
        "id": "DfJ4xq2jPPCX"
      },
      "source": [
        "Now lets run the simulation and plot the results!"
      ]
    },
    {
      "cell_type": "code",
      "execution_count": 35,
      "metadata": {
        "colab": {
          "base_uri": "https://localhost:8080/",
          "height": 55
        },
        "id": "RgfVtPu2PPZj",
        "outputId": "549d59ed-a7cb-4c44-c29f-e49128745090"
      },
      "outputs": [
        {
          "output_type": "stream",
          "name": "stdout",
          "text": [
            "Running simulation 1 times\n"
          ]
        },
        {
          "output_type": "display_data",
          "data": {
            "text/plain": [
              "<Figure size 640x480 with 0 Axes>"
            ]
          },
          "metadata": {}
        }
      ],
      "source": [
        "from graph_tiger.cascading import Cascading\n",
        "\n",
        "cascading = Cascading(graph, **params)\n",
        "results = cascading.run_simulation()\n",
        "\n",
        "cascading.plot_results(results)"
      ]
    },
    {
      "cell_type": "markdown",
      "metadata": {
        "id": "FVhxmxWCdUo4"
      },
      "source": [
        "### 1. Collapsing a network\n",
        "\n",
        "Now try modifying the code to find the minimal attack necessary to collapse the electrical grid. To do this, plot the \"health\" of the network as measured by the robustness measure (i.e., \"largest_connected_component\") at the end of each simulation, against the attack strength (\"k_a\").\n",
        "\n",
        "**Hint:** electrical networks are fragile to targeted attacks, try removing just a few nodes."
      ]
    },
    {
      "cell_type": "code",
      "execution_count": null,
      "metadata": {
        "colab": {
          "base_uri": "https://localhost:8080/"
        },
        "id": "jJ5nvT4SdU98",
        "outputId": "6fd48dc0-65c8-44bb-eac6-be061e9b6a4b"
      },
      "outputs": [
        {
          "output_type": "stream",
          "name": "stderr",
          "text": [
            "\r  0%|          | 0/6 [00:00<?, ?it/s]"
          ]
        },
        {
          "output_type": "stream",
          "name": "stdout",
          "text": [
            "Running simulation 1 times\n"
          ]
        },
        {
          "output_type": "stream",
          "name": "stderr",
          "text": [
            "\r 17%|█▋        | 1/6 [00:19<01:39, 19.96s/it]"
          ]
        },
        {
          "output_type": "stream",
          "name": "stdout",
          "text": [
            "Running simulation 1 times\n"
          ]
        },
        {
          "output_type": "stream",
          "name": "stderr",
          "text": [
            "\r 33%|███▎      | 2/6 [00:38<01:16, 19.17s/it]"
          ]
        }
      ],
      "source": [
        "sim_results =[]\n",
        "\n",
        "params['attack'] = 'id_node'\n",
        "attack_strengths = list(range(0, 6, 1))\n",
        "\n",
        "for k_a in tqdm(attack_strengths):\n",
        "  params['k_a'] = k_a\n",
        "\n",
        "  cascading = Cascading(graph, **params)\n",
        "  results = cascading.run_simulation()\n",
        "\n",
        "  lcc_at_end = results[-1]\n",
        "  sim_results.append(lcc_at_end)\n",
        "\n",
        "%matplotlib inline\n",
        "import matplotlib.pyplot as plt\n",
        "\n",
        "plt.plot(attack_strengths, sim_results)\n",
        "plt.xlabel('Attack strength')\n",
        "plt.ylabel('Largest connected component')\n",
        "plt.title('Effect of Attack Strength in Cascading Failures')"
      ]
    },
    {
      "cell_type": "markdown",
      "metadata": {
        "id": "baz5EtasjkGx"
      },
      "source": [
        "# Part 3. Simulating Computer Virus Spread Across Router Network\n",
        "\n",
        "The flu-like susceptible-infected-susceptible (SIS) is a popular model that allows us to simulate the spread of viruses across networks (graphs). Each node in the SIS model can be in one of two states, infected *I* or susceptible *S*, and at each time step *t*, an infected node has a probability *β* of infecting each of it's uninfected neighbors. After this, each infected node has a probability *δ* of healing and becoming susceptible again.\n",
        "\n",
        "It’s been shown there's a direct correlation between the graph's topology as measured through the spectral radius (largest eigenvalue) of the graph, and the virus remaining endemic. The exact relationship between a virus's strength (*s*), birth rate (*β*), death rate (*δ*) and spectral radius (*λ1*) is s=λ1⋅b/d, where a larger *s* means a stronger virus. With just these 3 parameters, we can setup a computer virus simulation.\n",
        "\n",
        "Below, we (1) load the Autonomous systems AS-733 network, which is a graph of routers comprising the internet; and (2) setup the simulation parameters.  "
      ]
    },
    {
      "cell_type": "code",
      "execution_count": null,
      "metadata": {
        "id": "QrIz_m74jkcv"
      },
      "outputs": [],
      "source": [
        "from graph_tiger.graphs import graph_loader\n",
        "\n",
        "graph = graph_loader('as_733')\n",
        "\n",
        "sis_params = {\n",
        "   'runs': 1,  # number of simulations to run\n",
        "   'steps': 5000,  # number of time steps to run simulation\n",
        "\n",
        "   'model': 'SIS',\n",
        "   'b': 0.00208,  # virus birth rate\n",
        "   'd': 0.01,  # virus death rate\n",
        "   'c': 0.3,  # fraction of the network that starts infected\n",
        "}"
      ]
    },
    {
      "cell_type": "markdown",
      "metadata": {
        "id": "eASO8u0Fse8J"
      },
      "source": [
        "Now lets run the simulation and plot the results! In the figure below, we see that without intervention the virus remains endemic on the router network."
      ]
    },
    {
      "cell_type": "code",
      "execution_count": null,
      "metadata": {
        "id": "m5EtzM9dmzwQ"
      },
      "outputs": [],
      "source": [
        "from graph_tiger.diffusion import Diffusion\n",
        "\n",
        "diffusion = Diffusion(graph, **sis_params)\n",
        "results = diffusion.run_simulation()\n",
        "\n",
        "diffusion.plot_results(results)"
      ]
    },
    {
      "cell_type": "markdown",
      "metadata": {
        "id": "gmotd41csn5N"
      },
      "source": [
        "While we do not have control over the virus strength (*s*), we can maniuplate the underlying toplogy of the router network to make it harder for the virus to spread. The question is, how do we optimally modify the network to reduce the spread of the virus? While a naive solution may be to disconnect the whole network, this isn't very practical since everyone would loose internet access! Instead, we need a strategy that carefully vaccinates a few nodes (routers) against the virus."
      ]
    },
    {
      "cell_type": "markdown",
      "metadata": {
        "id": "Jlj7TxOueQ4D"
      },
      "source": [
        "### 2. Optimally Vaccinating a Network\n",
        "\n",
        "Now lets compare the efficacy of 4 vaccination strategies when vaccinating only 3 nodes in the network:\n",
        "\n",
        "1. [netshield](https://graph-tiger.readthedocs.io/en/latest/defenses.html#graph_tiger.defenses.get_node_ns) ('ns_node')\n",
        "2. [id_node](https://graph-tiger.readthedocs.io/en/latest/defenses.html#graph_tiger.defenses.get_node_id) ('id_node')\n",
        "2. [rd_node](https://graph-tiger.readthedocs.io/en/latest/defenses.html#graph_tiger.defenses.get_node_rd) ('rd_node')\n",
        "3. [ib_node](https://graph-tiger.readthedocs.io/en/latest/defenses.html#graph_tiger.defenses.get_node_ib) ('ib_node')\n",
        "\n",
        "To implement a defense strategy you just have to modify a few simulation parameters."
      ]
    },
    {
      "cell_type": "code",
      "execution_count": null,
      "metadata": {
        "id": "hOm1GvX9slvx"
      },
      "outputs": [],
      "source": [
        "sis_params.update({\n",
        "    'diffusion': 'min',  # we want to minimize the ability of the virus to propagate,\n",
        "    'method': 'ns_node',  # use the Netshield technique\n",
        "    'k': 15  # vaccinate 5 nodes according the selected strategy\n",
        "})"
      ]
    },
    {
      "cell_type": "markdown",
      "metadata": {
        "id": "ClLDN5-LhY8i"
      },
      "source": [
        "Does each strategy manage to contain the virus (i.e., less than 1\\% infected population)? Which strategy has the lowest infected population at the end of the simulation? Setup and run each simulation and compare the results to the unvaccinated network."
      ]
    },
    {
      "cell_type": "code",
      "execution_count": null,
      "metadata": {
        "id": "UgAk7eEIbcWq"
      },
      "outputs": [],
      "source": [
        "methods = ['ns_node', 'id_node', 'rd_node', 'pr_node']\n",
        "\n",
        "for method in methods:\n",
        "  sis_params['method'] = method\n",
        "\n",
        "  diffusion = Diffusion(graph, **sis_params)\n",
        "  results = diffusion.run_simulation()\n",
        "\n",
        "  print('Percent of network that remains infected at end of simulation using {} vaccination technique is {}%'.format(method, round((results[-1] / len(graph)) * 100, 2)))\n",
        "  diffusion.plot_results(results)"
      ]
    }
  ],
  "metadata": {
    "accelerator": "GPU",
    "colab": {
      "name": "Lab 17_ Graph Analytics w_ TIGER.ipynb",
      "provenance": []
    },
    "kernelspec": {
      "display_name": "Python 3",
      "name": "python3"
    }
  },
  "nbformat": 4,
  "nbformat_minor": 0
}