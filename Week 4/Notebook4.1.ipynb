{
  "cells": [
    {
      "cell_type": "markdown",
      "metadata": {
        "id": "DY6r9WXybbYn"
      },
      "source": [
        "# AAI614: Data Science & its Applications\n",
        "\n",
        "*Notebook 4.1: Graph Analytics with cuGraph and TIGER*\n",
        "\n",
        "<a href=\"https://colab.research.google.com/github/harmanani/AAI614/blob/main/Week%204/Notebook4.1.ipynb\" target=\"_parent\"><img src=\"https://colab.research.google.com/assets/colab-badge.svg\" alt=\"Open In Colab\"/></a>\n",
        "\n",
        "\n",
        "\n",
        "\n",
        "The study of network robustness is critical to the understanding of complex interconnected systems. For example, consider an example of a power grid network that is susceptible to both natural failures and targeted attacks. A natural failure occurs when a single power substation fails due to erosion of parts or natural disasters. However, when one substation fails, additional load is routed to alternative substations, potentially causing a series of cascading failures. Not all failures originate from natural causes, some come from targeted attacks, such as enemy states hacking into the grid to sabotage key equipment to maximally damage the operations of the electrical grid. A natural counterpart to network robustness is vulnerability, defined as measure of a network’s susceptibility to the dissemination of entities across the network, such as how quickly a virus spreads across a computer network.\n",
        "\n",
        "In this lab, we show how to use [cuGraph](https://github.com/rapidsai/cugraph) and [TIGER](https://github.com/safreita1/TIGER) to conduct state-of-the-art GPU accelerated graph vulnerability and robustness analysis. Specifically, we will look at how to:\n",
        "\n",
        "- *Quantify network vulnerability and robustness* (**Part 1**),\n",
        "- *Simulate network attacks and cascading failures on networks* (**Part 2**)\n",
        "- *Regulate the dissemination of computer virues on a network* (**Part 3**)\n",
        "\n",
        "Lab Source: **NVIDIA**"
      ]
    },
    {
      "cell_type": "markdown",
      "metadata": {
        "id": "m07IHxfBuBp7"
      },
      "source": [
        "## Setup\n",
        "Lets begin by installing the following 2 libraries:\n",
        "\n",
        "1.   Graph vulnerability and robustness analysis library: [TIGER](https://github.com/safreita1/TIGER)\n",
        "2.   GPU acceleration library: [CuPy](https://github.com/cupy/cupy)\n"
      ]
    },
    {
      "cell_type": "code",
      "execution_count": 1,
      "metadata": {
        "colab": {
          "base_uri": "https://localhost:8080/"
        },
        "id": "0w_bThcZtlX3",
        "outputId": "a362f4c5-87fd-4ee7-df1f-66aaffda8b7a"
      },
      "outputs": [
        {
          "output_type": "stream",
          "name": "stdout",
          "text": [
            "\u001b[33mWARNING: Ignoring invalid distribution ~ylibcudf-cu12 (/usr/local/lib/python3.11/dist-packages)\u001b[0m\u001b[33m\n",
            "\u001b[0m\u001b[33mWARNING: Ignoring invalid distribution ~ylibcudf-cu12 (/usr/local/lib/python3.11/dist-packages)\u001b[0m\u001b[33m\n",
            "\u001b[0mRequirement already satisfied: graph-tiger in /usr/local/lib/python3.11/dist-packages (0.2.5)\n",
            "\u001b[33mWARNING: Ignoring invalid distribution ~ylibcudf-cu12 (/usr/local/lib/python3.11/dist-packages)\u001b[0m\u001b[33m\n",
            "\u001b[0m"
          ]
        }
      ],
      "source": [
        "pip install graph-tiger"
      ]
    },
    {
      "cell_type": "code",
      "source": [
        "import os\n",
        "print(\"Current working directory:\", os.getcwd())\n",
        "print(\"Contents of current directory:\")\n",
        "for item in os.listdir('.'):\n",
        "    print(f\"  {item}\")"
      ],
      "metadata": {
        "id": "a3pnQarUdn5t",
        "outputId": "c3edefeb-a2ab-40a0-bf5c-3c8b25ff84d8",
        "colab": {
          "base_uri": "https://localhost:8080/"
        }
      },
      "execution_count": 2,
      "outputs": [
        {
          "output_type": "stream",
          "name": "stdout",
          "text": [
            "Current working directory: /content\n",
            "Contents of current directory:\n",
            "  .config\n",
            "  rapidsai-csp-utils\n",
            "  sample_data\n"
          ]
        }
      ]
    },
    {
      "cell_type": "code",
      "source": [
        "!git clone https://github.com/rapidsai/rapidsai-csp-utils.git"
      ],
      "metadata": {
        "id": "SbupFtxndo4W",
        "outputId": "b9181357-ac7c-4a27-f430-9b1ddde32061",
        "colab": {
          "base_uri": "https://localhost:8080/"
        }
      },
      "execution_count": 3,
      "outputs": [
        {
          "output_type": "stream",
          "name": "stdout",
          "text": [
            "fatal: destination path 'rapidsai-csp-utils' already exists and is not an empty directory.\n"
          ]
        }
      ]
    },
    {
      "cell_type": "code",
      "source": [
        "import os\n",
        "file_path = 'rapidsai-csp-utils/colab/update_modules.py'\n",
        "if os.path.exists(file_path):\n",
        "    print(\"File exists!\")\n",
        "else:\n",
        "    print(\"File not found. Let's check the repository structure:\")\n",
        "    if os.path.exists('rapidsai-csp-utils'):\n",
        "        print(\"Repository exists. Contents:\")\n",
        "        for root, dirs, files in os.walk('rapidsai-csp-utils'):\n",
        "            for file in files:\n",
        "                if file.endswith('.py'):\n",
        "                    print(f\"  {os.path.join(root, file)}\")\n",
        "    else:\n",
        "        print(\"Repository not found.\")"
      ],
      "metadata": {
        "id": "OoQURXAMdrxT",
        "outputId": "5bbc5e4b-fbad-4ae4-bcef-516c7411df2a",
        "colab": {
          "base_uri": "https://localhost:8080/"
        }
      },
      "execution_count": 4,
      "outputs": [
        {
          "output_type": "stream",
          "name": "stdout",
          "text": [
            "File not found. Let's check the repository structure:\n",
            "Repository exists. Contents:\n",
            "  rapidsai-csp-utils/colab/install_rapids.py\n",
            "  rapidsai-csp-utils/colab/env-check.py\n",
            "  rapidsai-csp-utils/colab/pip-install.py\n"
          ]
        }
      ]
    },
    {
      "cell_type": "code",
      "source": [
        "# Check what install_rapids.py does\n",
        "with open('rapidsai-csp-utils/colab/install_rapids.py', 'r') as f:\n",
        "    content = f.read()\n",
        "    print(\"First 50 lines of install_rapids.py:\")\n",
        "    print('\\n'.join(content.split('\\n')[:50]))"
      ],
      "metadata": {
        "id": "RQ1qeNdEd-O-",
        "outputId": "6072cd44-8ef9-471d-ca49-a3778c14dac0",
        "colab": {
          "base_uri": "https://localhost:8080/"
        }
      },
      "execution_count": 5,
      "outputs": [
        {
          "output_type": "stream",
          "name": "stdout",
          "text": [
            "First 50 lines of install_rapids.py:\n",
            "#!/usr/bin/env python\n",
            "import os, sys, io\n",
            "import subprocess\n",
            "from pathlib import Path\n",
            "\n",
            "try:\n",
            "  import pynvml\n",
            "except:\n",
            "  output = subprocess.Popen([\"pip install pynvml\"], shell=True, stderr=subprocess.STDOUT,\n",
            "      stdout=subprocess.PIPE)\n",
            "  for line in io.TextIOWrapper(output.stdout, encoding=\"utf-8\"):\n",
            "    if(line == \"\"):\n",
            "      break\n",
            "    else:\n",
            "      print(line.rstrip())\n",
            "  import pynvml\n",
            "try:\n",
            "  pynvml.nvmlInit()\n",
            "except:\n",
            "  raise Exception(\"\"\"\n",
            "                  Unfortunately you're in a Colab instance that doesn't have a GPU.\n",
            "\n",
            "                  Please make sure you've configured Colab to request a GPU Instance Type.\n",
            "\n",
            "                  Go to 'Runtime -> Change Runtime Type --> under the Hardware Accelerator, select GPU', then try again.\"\"\"\n",
            "  )\n",
            "gpu_name = pynvml.nvmlDeviceGetName(pynvml.nvmlDeviceGetHandleByIndex(0))\n",
            "\n",
            "# CFFI fix with pip\n",
            "output = subprocess.Popen([\"pip uninstall --yes cffi\"], shell=True, stderr=subprocess.STDOUT,\n",
            "    stdout=subprocess.PIPE)\n",
            "for line in io.TextIOWrapper(output.stdout, encoding=\"utf-8\"):\n",
            "  if(line == \"\"):\n",
            "    break\n",
            "  else:\n",
            "    print(line.rstrip())\n",
            "output = subprocess.Popen([\"pip uninstall --yes cryptography\"], shell=True, stderr=subprocess.STDOUT,\n",
            "    stdout=subprocess.PIPE)\n",
            "for line in io.TextIOWrapper(output.stdout, encoding=\"utf-8\"):\n",
            "  if(line == \"\"):\n",
            "    break\n",
            "  else:\n",
            "    print(line.rstrip())\n",
            "output = subprocess.Popen([\"pip install cffi==1.15.0\"], shell=True, stderr=subprocess.STDOUT,\n",
            "    stdout=subprocess.PIPE)\n",
            "for line in io.TextIOWrapper(output.stdout, encoding=\"utf-8\"):\n",
            "  if(line == \"\"):\n",
            "    break\n",
            "  else:\n",
            "    print(line.rstrip())\n"
          ]
        }
      ]
    },
    {
      "cell_type": "code",
      "source": [
        "exec(open('rapidsai-csp-utils/colab/install_rapids.py').read(), globals())"
      ],
      "metadata": {
        "id": "LJyMCDU1eF_2",
        "outputId": "be07c941-ad45-4290-8b91-5d76158ada7f",
        "colab": {
          "base_uri": "https://localhost:8080/"
        }
      },
      "execution_count": 6,
      "outputs": [
        {
          "output_type": "stream",
          "name": "stdout",
          "text": [
            "WARNING: Ignoring invalid distribution ~ylibcudf-cu12 (/usr/local/lib/python3.11/dist-packages)\n",
            "WARNING: Ignoring invalid distribution ~ylibcudf-cu12 (/usr/local/lib/python3.11/dist-packages)\n",
            "Found existing installation: cffi 1.15.0\n",
            "Uninstalling cffi-1.15.0:\n",
            "  Successfully uninstalled cffi-1.15.0\n",
            "WARNING: Ignoring invalid distribution ~ylibcudf-cu12 (/usr/local/lib/python3.11/dist-packages)\n",
            "WARNING: Ignoring invalid distribution ~ylibcudf-cu12 (/usr/local/lib/python3.11/dist-packages)\n",
            "WARNING: Skipping cryptography as it is not installed.\n",
            "WARNING: Ignoring invalid distribution ~ylibcudf-cu12 (/usr/local/lib/python3.11/dist-packages)\n",
            "WARNING: Ignoring invalid distribution ~ylibcudf-cu12 (/usr/local/lib/python3.11/dist-packages)\n",
            "Collecting cffi==1.15.0\n",
            "  Using cached cffi-1.15.0-cp311-cp311-linux_x86_64.whl\n",
            "Requirement already satisfied: pycparser in /usr/local/lib/python3.11/dist-packages (from cffi==1.15.0) (2.22)\n",
            "WARNING: Ignoring invalid distribution ~ylibcudf-cu12 (/usr/local/lib/python3.11/dist-packages)\n",
            "Installing collected packages: cffi\n",
            "WARNING: Ignoring invalid distribution ~ylibcudf-cu12 (/usr/local/lib/python3.11/dist-packages)\n",
            "ERROR: pip's dependency resolver does not currently take into account all the packages that are installed. This behaviour is the source of the following dependency conflicts.\n",
            "pygit2 1.18.0 requires cffi>=1.17.0, but you have cffi 1.15.0 which is incompatible.\n",
            "rpy2 3.5.17 requires cffi>=1.15.1, but you have cffi 1.15.0 which is incompatible.\n",
            "Successfully installed cffi-1.15.0\n",
            "sed: can't read /usr/local/conda-meta/pinned: No such file or directory\n",
            "Installing RAPIDS Stable 23.12\n",
            "Starting the RAPIDS install on Colab.  This will take about 15 minutes.\n",
            "/bin/sh: 1: conda: not found\n",
            "/bin/sh: 1: mamba: not found\n",
            "RAPIDS conda installation complete.  Updating Colab's libraries...\n"
          ]
        }
      ]
    },
    {
      "cell_type": "code",
      "source": [
        "import subprocess\n",
        "import sys\n",
        "\n",
        "# Install the missing RAPIDSAI packages with CUDA 12 support\n",
        "missing_packages = [\n",
        "    \"cugraph-cu12\",\n",
        "    \"cuspatial-cu12\",\n",
        "    \"cuproj-cu12\",\n",
        "    \"cuxfilter-cu12\"\n",
        "]\n",
        "\n",
        "for package in missing_packages:\n",
        "    print(f\"Installing {package}...\")\n",
        "    try:\n",
        "        subprocess.check_call([\n",
        "            sys.executable, \"-m\", \"pip\", \"install\",\n",
        "            package, \"--no-cache-dir\"\n",
        "        ])\n",
        "        print(f\"✅ {package} installed successfully\")\n",
        "    except subprocess.CalledProcessError as e:\n",
        "        print(f\"❌ Failed to install {package}: {e}\")\n",
        "    print(\"-\" * 50)"
      ],
      "metadata": {
        "id": "8f5QuUaWe08d",
        "outputId": "08265215-f422-4dc3-aa35-de76d61bd535",
        "colab": {
          "base_uri": "https://localhost:8080/"
        }
      },
      "execution_count": null,
      "outputs": [
        {
          "output_type": "stream",
          "name": "stdout",
          "text": [
            "Installing cugraph-cu12...\n"
          ]
        }
      ]
    },
    {
      "cell_type": "code",
      "source": [
        "import subprocess\n",
        "import sys\n",
        "\n",
        "# Check for RAPIDSAI packages\n",
        "rapidsai_packages = ['cudf', 'cuml', 'cugraph', 'cuspatial', 'cuproj', 'cuxfilter']\n",
        "\n",
        "print(\"Checking RAPIDSAI package availability:\")\n",
        "for package in rapidsai_packages:\n",
        "    try:\n",
        "        __import__(package)\n",
        "        print(f\"✅ {package} - INSTALLED\")\n",
        "    except ImportError:\n",
        "        print(f\"❌ {package} - NOT INSTALLED\")\n",
        "\n",
        "# Also check pip list for any rapids packages\n",
        "result = subprocess.run([sys.executable, \"-m\", \"pip\", \"list\"],\n",
        "                       capture_output=True, text=True)\n",
        "rapids_lines = [line for line in result.stdout.split('\\n') if 'cu' in line.lower()]\n",
        "print(f\"\\nInstalled packages with 'cu' in name:\")\n",
        "for line in rapids_lines:\n",
        "    if line.strip():\n",
        "        print(f\"  {line}\")"
      ],
      "metadata": {
        "id": "k07o_1_-ekJC"
      },
      "execution_count": null,
      "outputs": []
    },
    {
      "cell_type": "code",
      "source": [
        "# If pip installation fails, try conda\n",
        "!conda install -c rapidsai -c conda-forge -c nvidia cudf cuml cugraph cuspatial cuproj -y"
      ],
      "metadata": {
        "id": "mLJMywVretaE"
      },
      "execution_count": null,
      "outputs": []
    },
    {
      "cell_type": "code",
      "execution_count": null,
      "metadata": {
        "id": "KkbW2e1JyDLc"
      },
      "outputs": [],
      "source": [
        "# Install RAPIDS - Fixed version\n",
        "!git clone https://github.com/rapidsai/rapidsai-csp-utils.git\n",
        "!bash rapidsai-csp-utils/colab/rapids-colab.sh stable\n",
        "\n",
        "import sys, os\n",
        "import cudf  # GPU-accelerated pandas\n",
        "import cuml  # GPU-accelerated scikit-learn\n",
        "import cugraph  # GPU-accelerated network analysis\n",
        "\n",
        "# Check what Python version and paths are available\n",
        "print(\"Python version:\", sys.version)\n",
        "print(\"Available paths:\")\n",
        "for path in sys.path:\n",
        "    print(f\"  {path}\")\n",
        "\n",
        "# Find the actual dist-packages path dynamically\n",
        "dist_packages_paths = [path for path in sys.path if 'dist-packages' in path]\n",
        "site_packages_paths = [path for path in sys.path if 'site-packages' in path]\n",
        "\n",
        "print(f\"\\nFound dist-packages paths: {dist_packages_paths}\")\n",
        "print(f\"Found site-packages paths: {site_packages_paths}\")\n",
        "\n",
        "# If we found the paths, update sys.path\n",
        "if dist_packages_paths:\n",
        "    dist_package_index = sys.path.index(dist_packages_paths[0])\n",
        "    # Construct the corresponding site-packages path\n",
        "    site_packages_path = dist_packages_paths[0].replace('dist-packages', 'site-packages')\n",
        "    sys.path = sys.path[:dist_package_index] + [site_packages_path] + sys.path[dist_package_index:]\n",
        "    print(f\"\\nUpdated sys.path to include: {site_packages_path}\")\n",
        "else:\n",
        "    print(\"\\nNo dist-packages path found, skipping sys.path modification\")\n",
        "\n",
        "print(\"\\nFinal sys.path:\")\n",
        "for i, path in enumerate(sys.path):\n",
        "    print(f\"  {i}: {path}\")\n",
        "\n",
        "# Execute the update modules script\n",
        "exec(open('rapidsai-csp-utils/colab/update_modules.py').read(), globals())"
      ]
    },
    {
      "cell_type": "markdown",
      "metadata": {
        "id": "fY4Lymv-x7G0"
      },
      "source": [
        "That's it! Now we can run a variety of GPU acclerated graph mining algorithms.\n",
        "\n"
      ]
    },
    {
      "cell_type": "markdown",
      "metadata": {
        "id": "0JBQLhrOCYFn"
      },
      "source": [
        "## Part 1: Quantifing network vulnerability and robustness\n",
        "\n",
        "While CPU calculations work well for sparse graphs, GPU acceleration significantly speeds-up analysis for dense graphs. To see this, lets run the code below that measures the robustness of a Barabási Albert (BA) graph at varying levels of density (i.e., number of edges per node)."
      ]
    },
    {
      "cell_type": "code",
      "execution_count": null,
      "metadata": {
        "id": "QhLLxqeJCV6P"
      },
      "outputs": [],
      "source": [
        "import time\n",
        "from tqdm import tqdm\n",
        "\n",
        "from graph_tiger.measures import run_measure\n",
        "from graph_tiger.graphs import graph_loader\n",
        "\n",
        "# controls graph density by varying the number of non-zeroes per row (i.e., number of edges per node in graph)\n",
        "nnz_per_row = list(range(50, 501, 50))\n",
        "\n",
        "cpu_times = []\n",
        "gpu_times = []\n",
        "for nnz in tqdm(nnz_per_row):\n",
        "  graph = graph_loader(graph_type='BA', n=1000, m=nnz, seed=1)\n",
        "\n",
        "  start_cpu = time.time()\n",
        "  robustness_index = run_measure(graph, measure='average_vertex_betweenness', k=int(0.05 * len(graph)))\n",
        "  end_cpu = time.time()\n",
        "\n",
        "  start_gpu = time.time()\n",
        "  robustness_index = run_measure(graph, measure='average_vertex_betweenness', k=12, use_gpu=True)  # ****** Replace with cuGraph version: https://docs.rapids.ai/api/cugraph/stable/api.html#module-cugraph.centrality.betweenness_centrality ******\n",
        "  end_gpu = time.time()\n",
        "\n",
        "\n",
        "  cpu_times.append(round(end_cpu - start_cpu, 2))\n",
        "  gpu_times.append(round(end_gpu - start_gpu, 2))\n",
        "\n",
        "\n"
      ]
    },
    {
      "cell_type": "markdown",
      "metadata": {
        "id": "feSLclFDI4c5"
      },
      "source": [
        "Now lets plot the results (lower is better)."
      ]
    },
    {
      "cell_type": "code",
      "execution_count": null,
      "metadata": {
        "id": "L00rAHJpCV03"
      },
      "outputs": [],
      "source": [
        "%matplotlib inline\n",
        "import matplotlib.pyplot as plt\n",
        "\n",
        "plt.plot(nnz_per_row, cpu_times, label='CPU')\n",
        "plt.plot(nnz_per_row, gpu_times, label='GPU')\n",
        "plt.xlabel('Number of edges per node (NNZ)')\n",
        "plt.ylabel('Time (seconds)')\n",
        "plt.title('Measuring Graph Robustness Runtime (CPU vs. GPU)')\n",
        "plt.legend()\n",
        "plt.show()"
      ]
    },
    {
      "cell_type": "markdown",
      "metadata": {
        "id": "X58wipWGyaJd"
      },
      "source": [
        "## Part 2. Simulating Cascading Failures in U.S. Electrical Grid\n",
        "Cascading failures often arise as a result of natural failures or targeted attacks in a network. There are 3 main processes governing the network simulation:\n",
        "\n",
        "- the **capacity** of each node (<img src=\"https://render.githubusercontent.com/render/math?math=c_v\">) in the network, e.g., power substation capacity.\n",
        "\n",
        "- the **load** of each node (<img src=\"https://render.githubusercontent.com/render/math?math=l_v\">) in the network, e.g., power substation load level\n",
        "\n",
        "- network **redundancy** (*r*) representing the amount of reserve capacity present in the network i.e., auxiliary support systems.\n",
        "\n",
        "When a node is attacked it becomes \"overloaded\", causing it to fail and requiring the load be distributed to its neighbors. When defending a node, we increase it’s capacity to protect against attacks. With just these 3 parameters, we can setup a cascading failure simulation. Below, we show how to load a graph representing the U.S. electrical grid and setup the simulation parameters."
      ]
    },
    {
      "cell_type": "code",
      "execution_count": null,
      "metadata": {
        "id": "ZaOR8IqVN78X"
      },
      "outputs": [],
      "source": [
        "from graph_tiger.graphs import graph_loader\n",
        "\n",
        "graph = graph_loader('electrical')\n",
        "\n",
        "params = {\n",
        "   'runs': 1,  # number of times to run the simulation\n",
        "   'steps': 100,  # number of time steps to run each simulation\n",
        "   'seed': 1,  # for repoducibility\n",
        "\n",
        "   'l': 0.8,  # network load [0, 1]\n",
        "   'r': 0.2,  # network redundancey [0, 1]\n",
        "   'c': int(0.1 * len(graph)),  # load capacity approximation\n",
        "\n",
        "   'robust_measure': 'largest_connected_component',  # measure of network health\n",
        "}"
      ]
    },
    {
      "cell_type": "markdown",
      "metadata": {
        "id": "DEUFDjjYPJIX"
      },
      "source": [
        "### Setting up a Targeted Attack\n",
        "To run the attack we just have to modify a few simulation parameters. We set the attack to remove 30 nodes in the graph (e.g., power grid substations) with highest degree centrality \"id_node\". As you can imagine, there are many different strategies that can be used to attack the grid, however, by selecting degree centrality we can find \"central\" nodes in the network with many power lines (edges) connected to the substations (nodes)."
      ]
    },
    {
      "cell_type": "code",
      "execution_count": null,
      "metadata": {
        "id": "FIxAypOhN3vm"
      },
      "outputs": [],
      "source": [
        "params.update({\n",
        "   'k_a': 30,  # number of nodes to attack\n",
        "   'attack': 'id_node',  # attack strategy\n",
        "})"
      ]
    },
    {
      "cell_type": "markdown",
      "metadata": {
        "id": "DfJ4xq2jPPCX"
      },
      "source": [
        "Now lets run the simulation and plot the results!"
      ]
    },
    {
      "cell_type": "code",
      "execution_count": null,
      "metadata": {
        "id": "RgfVtPu2PPZj"
      },
      "outputs": [],
      "source": [
        "from graph_tiger.cascading import Cascading\n",
        "\n",
        "cascading = Cascading(graph, **params)\n",
        "results = cascading.run_simulation()\n",
        "\n",
        "cascading.plot_results(results)"
      ]
    },
    {
      "cell_type": "markdown",
      "metadata": {
        "id": "FVhxmxWCdUo4"
      },
      "source": [
        "### 1. Collapsing a network\n",
        "\n",
        "Now try modifying the code to find the minimal attack necessary to collapse the electrical grid. To do this, plot the \"health\" of the network as measured by the robustness measure (i.e., \"largest_connected_component\") at the end of each simulation, against the attack strength (\"k_a\").\n",
        "\n",
        "**Hint:** electrical networks are fragile to targeted attacks, try removing just a few nodes."
      ]
    },
    {
      "cell_type": "code",
      "execution_count": null,
      "metadata": {
        "id": "jJ5nvT4SdU98"
      },
      "outputs": [],
      "source": [
        "sim_results =[]\n",
        "\n",
        "params['attack'] = 'id_node'\n",
        "attack_strengths = list(range(0, 6, 1))\n",
        "\n",
        "for k_a in tqdm(attack_strengths):\n",
        "  params['k_a'] = k_a\n",
        "\n",
        "  cascading = Cascading(graph, **params)\n",
        "  results = cascading.run_simulation()\n",
        "\n",
        "  lcc_at_end = results[-1]\n",
        "  sim_results.append(lcc_at_end)\n",
        "\n",
        "%matplotlib inline\n",
        "import matplotlib.pyplot as plt\n",
        "\n",
        "plt.plot(attack_strengths, sim_results)\n",
        "plt.xlabel('Attack strength')\n",
        "plt.ylabel('Largest connected component')\n",
        "plt.title('Effect of Attack Strength in Cascading Failures')"
      ]
    },
    {
      "cell_type": "markdown",
      "metadata": {
        "id": "baz5EtasjkGx"
      },
      "source": [
        "# Part 3. Simulating Computer Virus Spread Across Router Network\n",
        "\n",
        "The flu-like susceptible-infected-susceptible (SIS) is a popular model that allows us to simulate the spread of viruses across networks (graphs). Each node in the SIS model can be in one of two states, infected *I* or susceptible *S*, and at each time step *t*, an infected node has a probability *β* of infecting each of it's uninfected neighbors. After this, each infected node has a probability *δ* of healing and becoming susceptible again.\n",
        "\n",
        "It’s been shown there's a direct correlation between the graph's topology as measured through the spectral radius (largest eigenvalue) of the graph, and the virus remaining endemic. The exact relationship between a virus's strength (*s*), birth rate (*β*), death rate (*δ*) and spectral radius (*λ1*) is s=λ1⋅b/d, where a larger *s* means a stronger virus. With just these 3 parameters, we can setup a computer virus simulation.\n",
        "\n",
        "Below, we (1) load the Autonomous systems AS-733 network, which is a graph of routers comprising the internet; and (2) setup the simulation parameters.  "
      ]
    },
    {
      "cell_type": "code",
      "execution_count": null,
      "metadata": {
        "id": "QrIz_m74jkcv"
      },
      "outputs": [],
      "source": [
        "from graph_tiger.graphs import graph_loader\n",
        "\n",
        "graph = graph_loader('as_733')\n",
        "\n",
        "sis_params = {\n",
        "   'runs': 1,  # number of simulations to run\n",
        "   'steps': 5000,  # number of time steps to run simulation\n",
        "\n",
        "   'model': 'SIS',\n",
        "   'b': 0.00208,  # virus birth rate\n",
        "   'd': 0.01,  # virus death rate\n",
        "   'c': 0.3,  # fraction of the network that starts infected\n",
        "}"
      ]
    },
    {
      "cell_type": "markdown",
      "metadata": {
        "id": "eASO8u0Fse8J"
      },
      "source": [
        "Now lets run the simulation and plot the results! In the figure below, we see that without intervention the virus remains endemic on the router network."
      ]
    },
    {
      "cell_type": "code",
      "execution_count": null,
      "metadata": {
        "id": "m5EtzM9dmzwQ"
      },
      "outputs": [],
      "source": [
        "from graph_tiger.diffusion import Diffusion\n",
        "\n",
        "diffusion = Diffusion(graph, **sis_params)\n",
        "results = diffusion.run_simulation()\n",
        "\n",
        "diffusion.plot_results(results)"
      ]
    },
    {
      "cell_type": "markdown",
      "metadata": {
        "id": "gmotd41csn5N"
      },
      "source": [
        "While we do not have control over the virus strength (*s*), we can maniuplate the underlying toplogy of the router network to make it harder for the virus to spread. The question is, how do we optimally modify the network to reduce the spread of the virus? While a naive solution may be to disconnect the whole network, this isn't very practical since everyone would loose internet access! Instead, we need a strategy that carefully vaccinates a few nodes (routers) against the virus."
      ]
    },
    {
      "cell_type": "markdown",
      "metadata": {
        "id": "Jlj7TxOueQ4D"
      },
      "source": [
        "### 2. Optimally Vaccinating a Network\n",
        "\n",
        "Now lets compare the efficacy of 4 vaccination strategies when vaccinating only 3 nodes in the network:\n",
        "\n",
        "1. [netshield](https://graph-tiger.readthedocs.io/en/latest/defenses.html#graph_tiger.defenses.get_node_ns) ('ns_node')\n",
        "2. [id_node](https://graph-tiger.readthedocs.io/en/latest/defenses.html#graph_tiger.defenses.get_node_id) ('id_node')\n",
        "2. [rd_node](https://graph-tiger.readthedocs.io/en/latest/defenses.html#graph_tiger.defenses.get_node_rd) ('rd_node')\n",
        "3. [ib_node](https://graph-tiger.readthedocs.io/en/latest/defenses.html#graph_tiger.defenses.get_node_ib) ('ib_node')\n",
        "\n",
        "To implement a defense strategy you just have to modify a few simulation parameters."
      ]
    },
    {
      "cell_type": "code",
      "execution_count": null,
      "metadata": {
        "id": "hOm1GvX9slvx"
      },
      "outputs": [],
      "source": [
        "sis_params.update({\n",
        "    'diffusion': 'min',  # we want to minimize the ability of the virus to propagate,\n",
        "    'method': 'ns_node',  # use the Netshield technique\n",
        "    'k': 15  # vaccinate 5 nodes according the selected strategy\n",
        "})"
      ]
    },
    {
      "cell_type": "markdown",
      "metadata": {
        "id": "ClLDN5-LhY8i"
      },
      "source": [
        "Does each strategy manage to contain the virus (i.e., less than 1\\% infected population)? Which strategy has the lowest infected population at the end of the simulation? Setup and run each simulation and compare the results to the unvaccinated network."
      ]
    },
    {
      "cell_type": "code",
      "execution_count": null,
      "metadata": {
        "id": "UgAk7eEIbcWq"
      },
      "outputs": [],
      "source": [
        "methods = ['ns_node', 'id_node', 'rd_node', 'pr_node']\n",
        "\n",
        "for method in methods:\n",
        "  sis_params['method'] = method\n",
        "\n",
        "  diffusion = Diffusion(graph, **sis_params)\n",
        "  results = diffusion.run_simulation()\n",
        "\n",
        "  print('Percent of network that remains infected at end of simulation using {} vaccination technique is {}%'.format(method, round((results[-1] / len(graph)) * 100, 2)))\n",
        "  diffusion.plot_results(results)"
      ]
    }
  ],
  "metadata": {
    "accelerator": "GPU",
    "colab": {
      "name": "Lab 17_ Graph Analytics w_ TIGER.ipynb",
      "provenance": []
    },
    "kernelspec": {
      "display_name": "Python 3",
      "name": "python3"
    }
  },
  "nbformat": 4,
  "nbformat_minor": 0
}